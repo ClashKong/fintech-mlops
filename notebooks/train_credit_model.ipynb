{
 "cells": [
  {
   "cell_type": "code",
   "execution_count": null,
   "metadata": {},
   "outputs": [],
   "source": [
    "import pandas as pd\n",
    "from sklearn.model_selection import train_test_split\n",
    "from sklearn.ensemble import RandomForestClassifier\n",
    "from sklearn.metrics import accuracy_score\n",
    "import mlflow\n",
    "import mlflow.sklearn\n",
    "\n",
    "# 📥 Dataset laden\n",
    "url = \"https://archive.ics.uci.edu/ml/machine-learning-databases/statlog/german/german.data\"\n",
    "columns = [\n",
    "    \"Status\", \"Duration\", \"CreditHistory\", \"Purpose\", \"CreditAmount\", \"Savings\", \"EmploymentSince\",\n",
    "    \"InstallmentRate\", \"PersonalStatusSex\", \"OtherDebtors\", \"ResidenceSince\", \"Property\",\n",
    "    \"Age\", \"OtherInstallmentPlans\", \"Housing\", \"ExistingCredits\", \"Job\", \"LiablePeople\",\n",
    "    \"Telephone\", \"ForeignWorker\", \"Target\"\n",
    "]\n",
    "df = pd.read_csv(url, sep=' ', names=columns)\n",
    "df[\"Target\"] = df[\"Target\"].apply(lambda x: 1 if x == 1 else 0)\n",
    "\n",
    "# 🧼 Vereinfachtes Preprocessing (nur numerisch, für den Anfang)\n",
    "df = df.dropna()\n",
    "df = pd.get_dummies(df.select_dtypes(include=[int, float]), drop_first=True)\n",
    "\n",
    "X = df.drop(\"Target\", axis=1)\n",
    "y = df[\"Target\"]\n",
    "\n",
    "X_train, X_test, y_train, y_test = train_test_split(X, y, test_size=0.2, random_state=42)\n",
    "\n",
    "# 🚀 MLflow Tracking starten\n",
    "mlflow.set_experiment(\"credit-risk-model\")\n",
    "\n",
    "with mlflow.start_run():\n",
    "    model = RandomForestClassifier(n_estimators=100, random_state=42)\n",
    "    model.fit(X_train, y_train)\n",
    "    preds = model.predict(X_test)\n",
    "    acc = accuracy_score(y_test, preds)\n",
    "\n",
    "    mlflow.log_param(\"n_estimators\", 100)\n",
    "    mlflow.log_metric(\"accuracy\", acc)\n",
    "\n",
    "    mlflow.sklearn.log_model(model, \"model\")\n",
    "\n",
    "    print(f\"✅ Accuracy: {acc:.4f}\")\n"
   ]
  }
 ],
 "metadata": {
  "kernelspec": {
   "display_name": "venv",
   "language": "python",
   "name": "python3"
  },
  "language_info": {
   "name": "python",
   "version": "3.12.7"
  }
 },
 "nbformat": 4,
 "nbformat_minor": 2
}
